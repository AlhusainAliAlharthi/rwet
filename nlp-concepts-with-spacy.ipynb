{
 "cells": [
  {
   "cell_type": "markdown",
   "metadata": {},
   "source": [
    "# NLP concepts with spaCy\n",
    "\n",
    "“Natural Language Processing” is a field at the intersection of computer science, linguistics and artificial intelligence which aims to make the underlying structure of language available to computer programs for analysis and manipulation. It’s a vast and vibrant field with a long history! New research and techniques are being developed constantly.\n",
    "\n",
    "The aim of this notebook is to introduce a few simple concepts and techniques from NLP—just the stuff that’ll help you do creative things quickly, and maybe open the door for you to understand more sophisticated NLP concepts that you might encounter elsewhere.\n",
    "\n",
    "We'll be using a library called [spaCy](https://spacy.io/), which is a good compromise between being very powerful and state-of-the-art and easy for newcomers to understand.\n",
    "\n",
    "(Traditionally, most NLP work in Python was done with a library called [NLTK](http://www.nltk.org/). NLTK is a fantastic library, but it’s also a writhing behemoth: large and slippery and difficult to understand. Also, much of the code in NLTK is decades out of date with contemporary practices in NLP.)\n",
    "\n",
    "This tutorial is written for Python 3.5+. [Here's a Python 2.7 version of the tutorial](https://gist.github.com/aparrish/f21f6abbf2367e8eb23438558207e1c3).\n",
    "\n",
    "## Natural language\n",
    "\n",
    "“Natural language” is a loaded phrase: what makes one stretch of language “natural” while another stretch is not? NLP techniques are opinionated about what language is and how it works; as a consequence, you’ll sometimes find yourself having to conceptualize your text with uncomfortable abstractions in order to make it work with NLP. (This is especially true of poetry, which almost by definition breaks most “conventional” definitions of how language behaves and how it’s structured.)\n",
    "\n",
    "Of course, a computer can never really fully “understand” human language. Even when the text you’re using fits the abstractions of NLP perfectly, the results of NLP analysis are always going to be at least a little bit inaccurate. But often even inaccurate results can be “good enough”—and in any case, inaccurate output from NLP procedures can be an excellent source of the sublime and absurd juxtapositions that we (as poets) are constantly in search of.\n",
    "\n",
    "## English only (sorta)\n",
    "\n",
    "The main assumption that most NLP libraries and techniques make is that the text you want to process will be in English. Historically, most NLP research has been on English specifically; it’s only more recently that serious work has gone into applying these techniques to other languages. The examples in this chapter are all based on English texts, and the tools we’ll use are geared toward English. If you’re interested in working on NLP in other languages, here are a few starting points:\n",
    "\n",
    "* [spaCy has models for various languages](https://spacy.io/models/#available-models), including German, Spanish, Portuguese, French, Italian and Dutch. Note that not all of these models support all of the capabilities of spaCy that we'll talk about in this tutorial. Also note that not all languages have the same ideas about what constitutes a \"part of speech\"!\n",
    "* [Konlpy](https://github.com/konlpy/konlpy), natural language processing in\n",
    "  Python for Korean\n",
    "* [Jieba](https://github.com/fxsjy/jieba), text segmentation and POS tagging in\n",
    "  Python for Chinese\n",
    "* Facebook's [fasttext project](https://fasttext.cc/docs/en/pretrained-vectors.html) makes available word vectors for a large number of languages (~300).\n",
    "\n",
    "## English grammar: a crash course\n",
    "\n",
    "The only thing I believe about English grammar is [this](http://www.writing.upenn.edu/~afilreis/88v/creeley-on-sentence.html):\n",
    "\n",
    "> \"Oh yes, the sentence,\" Creeley once told the critic Burton Hatlen, \"that's\n",
    "> what we call it when we put someone in jail.\"\n",
    "\n",
    "There is no such thing as a sentence, or a phrase, or a part of speech, or even\n",
    "a \"word\"---these are all pareidolic fantasies occasioned by glints of sunlight\n",
    "we see on reflected on the surface of the ocean of language; fantasies that we\n",
    "comfort ourselves with when faced with language's infinite and unknowable\n",
    "variability.\n",
    "\n",
    "Regardless, we may find it occasionally helpful to think about language using\n",
    "these abstractions. The following is a gross oversimplification of both how\n",
    "English grammar works, and how theories of English grammar work in the context\n",
    "of NLP. But it should be enough to get us going!\n",
    "\n",
    "### Sentences and parts of speech\n",
    "\n",
    "English texts can roughly be divided into \"sentences.\" Sentences are themselves\n",
    "composed of individual words, each of which has a function in expressing the\n",
    "meaning of the sentence. The function of a word in a sentence is called its\n",
    "\"part of speech\"---i.e., a word functions as a noun, a verb, an adjective, etc.\n",
    "Here's a sentence, with words marked for their part of speech:\n",
    "\n",
    "    I       really love entrees       from        the        new       cafeteria.\n",
    "    pronoun adverb verb noun (plural) preposition determiner adjective noun\n",
    "\n",
    "Of course, the \"part of speech\" of a word isn't a property of the word itself.\n",
    "We know this because a single \"word\" can function as two different parts of speech:\n",
    "\n",
    "> I love cheese.\n",
    "\n",
    "The word \"love\" here is a verb. But here:\n",
    "\n",
    "> Love is a battlefield.\n",
    "\n",
    "... it's a noun. For this reason (and others), it's difficult for computers to\n",
    "accurately determine the part of speech for a word in a sentence. (It's\n",
    "difficult sometimes even for humans to do this.) But NLP procedures do their\n",
    "best!\n",
    "\n",
    "### Phrases and larger syntactic structures\n",
    "\n",
    "There are several different ways for talking about larger syntactic structures in sentences. The scheme used by spaCy is called a \"dependency grammar.\" We'll talk about the details of this below.\n"
   ]
  },
  {
   "cell_type": "markdown",
   "metadata": {},
   "source": [
    "## Installing spaCy\n",
    "\n",
    "[Follow the instructions here](https://spacy.io/docs/usage/). To install on Anaconda, you'll need to open a Terminal window (or the equivalent on your operating system) and type\n",
    "\n",
    "    conda install -c conda-forge spacy\n",
    "    \n",
    "This line installs the library. You'll also need to download a language model. For that, type:\n",
    "\n",
    "    python -m spacy download en\n",
    "    \n",
    "(Replace `en` with the language code for your desired language, if there's a model available for it.) The language model contains the statistical information necessary to parse text into sentences and sentences into parts of speech. Note that this download is several hundred megabytes, so it might take a while!\n",
    "\n",
    "If you're not using Anaconda, you can also install with `pip`. When using `pip`, make sure to upgrade to the newest version first, with `pip install --upgrade pip`. (This will ensure that at least *some* of the dependencies are installed as pre-built binaries)\n",
    "\n",
    "    pip install spacy\n",
    "    \n",
    "(If you're not using a virtual environment, try `sudo pip install spacy`.)\n",
    "\n",
    "Currently, spaCy is distributed in source form only, so the installation process involves a bit of compiling. On macOS, you'll need to install [XCode](https://developer.apple.com/xcode/) in order to perform the compilation steps. [Here's a good tutorial for macOS Sierra](http://railsapps.github.io/xcode-command-line-tools.html), though the steps should be similar on other versions.\n",
    "\n",
    "After you've installed spaCy, you'll need to download the data. Run the following on the command line:\n",
    "\n",
    "    !python -m spacy download en"
   ]
  },
  {
   "cell_type": "markdown",
   "metadata": {},
   "source": [
    "## Basic usage\n",
    "\n",
    "Import `spacy` like any other Python module. The `spaCy` code expects all strings to be unicode strings, so make sure you've included `from __future__ import unicode_literals` at the top of your Python 2.7 code—it'll make your life easier, trust me."
   ]
  },
  {
   "cell_type": "code",
   "execution_count": 1,
   "metadata": {
    "collapsed": true
   },
   "outputs": [],
   "source": [
    "import spacy"
   ]
  },
  {
   "cell_type": "markdown",
   "metadata": {},
   "source": [
    "Create a new spaCy object using `spacy.load('en')` (assuming you want to work with English; spaCy supports other languages as well)."
   ]
  },
  {
   "cell_type": "code",
   "execution_count": 3,
   "metadata": {},
   "outputs": [],
   "source": [
    "nlp = spacy.load('en')"
   ]
  },
  {
   "cell_type": "markdown",
   "metadata": {},
   "source": [
    "And then create a `Document` object by calling the spaCy object with the text you want to work with. Below I've included a few sentences from the Universal Declaration of Human Rights:"
   ]
  },
  {
   "cell_type": "code",
   "execution_count": 4,
   "metadata": {
    "collapsed": true
   },
   "outputs": [],
   "source": [
    "doc = nlp(\"All human beings are born free and equal in dignity and rights. They are endowed with reason and conscience and should act towards one another in a spirit of brotherhood. Everyone has the right to life, liberty and security of person.\")"
   ]
  },
  {
   "cell_type": "markdown",
   "metadata": {},
   "source": [
    "## Sentences\n",
    "\n",
    "If you learn nothing else about spaCy (or NLP), then learn at least that it's a good way to get a list of sentences in a text. Once you've created a document object, you can iterate over the sentences it contains using the `.sents` attribute:"
   ]
  },
  {
   "cell_type": "code",
   "execution_count": 5,
   "metadata": {},
   "outputs": [
    {
     "name": "stdout",
     "output_type": "stream",
     "text": [
      "All human beings are born free and equal in dignity and rights.\n",
      "They are endowed with reason and conscience and should act towards one another in a spirit of brotherhood.\n",
      "Everyone has the right to life, liberty and security of person.\n"
     ]
    }
   ],
   "source": [
    "for item in doc.sents:\n",
    "    print(item.text)"
   ]
  },
  {
   "cell_type": "markdown",
   "metadata": {},
   "source": [
    "The `.sents` attribute is a generator, so you can't index or count it directly. To do this, you'll need to convert it to a list first using the `list()` function:"
   ]
  },
  {
   "cell_type": "code",
   "execution_count": 6,
   "metadata": {
    "collapsed": true
   },
   "outputs": [],
   "source": [
    "sentences_as_list = list(doc.sents)"
   ]
  },
  {
   "cell_type": "code",
   "execution_count": 7,
   "metadata": {},
   "outputs": [
    {
     "data": {
      "text/plain": [
       "3"
      ]
     },
     "execution_count": 7,
     "metadata": {},
     "output_type": "execute_result"
    }
   ],
   "source": [
    "len(sentences_as_list)"
   ]
  },
  {
   "cell_type": "code",
   "execution_count": 8,
   "metadata": {},
   "outputs": [
    {
     "data": {
      "text/plain": [
       "They are endowed with reason and conscience and should act towards one another in a spirit of brotherhood."
      ]
     },
     "execution_count": 8,
     "metadata": {},
     "output_type": "execute_result"
    }
   ],
   "source": [
    "import random\n",
    "random.choice(sentences_as_list)"
   ]
  },
  {
   "cell_type": "markdown",
   "metadata": {},
   "source": [
    "## Words\n",
    "\n",
    "Iterating over a document yields each word in the document in turn. Words are represented with spaCy [Token](https://spacy.io/docs/api/token) objects, which have several interesting attributes. The `.text` attribute gives the underlying text of the word, and the `.lemma_` attribute gives the word's \"lemma\" (explained below):"
   ]
  },
  {
   "cell_type": "code",
   "execution_count": 9,
   "metadata": {},
   "outputs": [
    {
     "name": "stdout",
     "output_type": "stream",
     "text": [
      "All all\n",
      "human human\n",
      "beings being\n",
      "are be\n",
      "born bear\n",
      "free free\n",
      "and and\n",
      "equal equal\n",
      "in in\n",
      "dignity dignity\n",
      "and and\n",
      "rights right\n",
      ". .\n",
      "They -PRON-\n",
      "are be\n",
      "endowed endow\n",
      "with with\n",
      "reason reason\n",
      "and and\n",
      "conscience conscience\n",
      "and and\n",
      "should should\n",
      "act act\n",
      "towards towards\n",
      "one one\n",
      "another another\n",
      "in in\n",
      "a a\n",
      "spirit spirit\n",
      "of of\n",
      "brotherhood brotherhood\n",
      ". .\n",
      "Everyone everyone\n",
      "has have\n",
      "the the\n",
      "right right\n",
      "to to\n",
      "life life\n",
      ", ,\n",
      "liberty liberty\n",
      "and and\n",
      "security security\n",
      "of of\n",
      "person person\n",
      ". .\n"
     ]
    }
   ],
   "source": [
    "for word in doc:\n",
    "    print(word.text, word.lemma_)"
   ]
  },
  {
   "cell_type": "markdown",
   "metadata": {},
   "source": [
    "A word's \"lemma\" is its most \"basic\" form, the form without any morphology\n",
    "applied to it. \"Sing,\" \"sang,\" \"singing,\" are all different \"forms\" of the\n",
    "lemma *sing*. Likewise, \"octopi\" is the plural of \"octopus\"; the \"lemma\" of\n",
    "\"octopi\" is *octopus*.\n",
    "\n",
    "\"Lemmatizing\" a text is the process of going through the text and replacing\n",
    "each word with its lemma. This is often done in an attempt to reduce a text\n",
    "to its most \"essential\" meaning, by eliminating pesky things like verb tense\n",
    "and noun number.\n",
    "\n",
    "Individual sentences can also be iterated over to get a list of words:"
   ]
  },
  {
   "cell_type": "code",
   "execution_count": 88,
   "metadata": {},
   "outputs": [
    {
     "name": "stdout",
     "output_type": "stream",
     "text": [
      "They\n",
      "are\n",
      "endowed\n",
      "with\n",
      "reason\n",
      "and\n",
      "conscience\n",
      "and\n",
      "should\n",
      "act\n",
      "towards\n",
      "one\n",
      "another\n",
      "in\n",
      "a\n",
      "spirit\n",
      "of\n",
      "brotherhood\n",
      ".\n"
     ]
    }
   ],
   "source": [
    "sentence = list(doc.sents)[1]\n",
    "for word in sentence:\n",
    "    print(word.text)"
   ]
  },
  {
   "cell_type": "markdown",
   "metadata": {},
   "source": [
    "## Parts of speech\n",
    "\n",
    "The `pos_` attribute gives a general part of speech; the `tag_` attribute gives a more specific designation. [List of meanings here.](https://spacy.io/docs/api/annotation)"
   ]
  },
  {
   "cell_type": "code",
   "execution_count": 11,
   "metadata": {},
   "outputs": [
    {
     "name": "stdout",
     "output_type": "stream",
     "text": [
      "All DET DT\n",
      "human ADJ JJ\n",
      "beings NOUN NNS\n",
      "are VERB VBP\n",
      "born VERB VBN\n",
      "free ADJ JJ\n",
      "and CCONJ CC\n",
      "equal ADJ JJ\n",
      "in ADP IN\n",
      "dignity NOUN NN\n",
      "and CCONJ CC\n",
      "rights NOUN NNS\n",
      ". PUNCT .\n",
      "They PRON PRP\n",
      "are VERB VBP\n",
      "endowed VERB VBN\n",
      "with ADP IN\n",
      "reason NOUN NN\n",
      "and CCONJ CC\n",
      "conscience NOUN NN\n",
      "and CCONJ CC\n",
      "should VERB MD\n",
      "act VERB VB\n",
      "towards ADP IN\n",
      "one NUM CD\n",
      "another DET DT\n",
      "in ADP IN\n",
      "a DET DT\n",
      "spirit NOUN NN\n",
      "of ADP IN\n",
      "brotherhood NOUN NN\n",
      ". PUNCT .\n",
      "Everyone NOUN NN\n",
      "has VERB VBZ\n",
      "the DET DT\n",
      "right NOUN NN\n",
      "to ADP IN\n",
      "life NOUN NN\n",
      ", PUNCT ,\n",
      "liberty NOUN NN\n",
      "and CCONJ CC\n",
      "security NOUN NN\n",
      "of ADP IN\n",
      "person NOUN NN\n",
      ". PUNCT .\n"
     ]
    }
   ],
   "source": [
    "for item in doc:\n",
    "    print(item.text, item.pos_, item.tag_)"
   ]
  },
  {
   "cell_type": "markdown",
   "metadata": {},
   "source": [
    "### Extracting words by part of speech\n",
    "\n",
    "With knowledge of which part of speech each word belongs to, we can make simple code to extract and recombine words by their part of speech. The following code creates a list of all nouns and adjectives in the text:"
   ]
  },
  {
   "cell_type": "code",
   "execution_count": 12,
   "metadata": {
    "collapsed": true
   },
   "outputs": [],
   "source": [
    "nouns = [item.text for item in doc if item.pos_ == 'NOUN']\n",
    "adjectives = [item.text for item in doc if item.pos_ == 'ADJ']"
   ]
  },
  {
   "cell_type": "markdown",
   "metadata": {},
   "source": [
    "And below, some code to print out random pairings of an adjective from the text with a noun from the text:"
   ]
  },
  {
   "cell_type": "code",
   "execution_count": 22,
   "metadata": {},
   "outputs": [
    {
     "name": "stdout",
     "output_type": "stream",
     "text": [
      "human life\n",
      "free spirit\n",
      "human security\n",
      "free security\n",
      "human reason\n",
      "equal reason\n",
      "human person\n",
      "human person\n",
      "equal Everyone\n",
      "human dignity\n"
     ]
    }
   ],
   "source": [
    "for i in range(10):\n",
    "    print(random.choice(adjectives) + \" \" + random.choice(nouns))"
   ]
  },
  {
   "cell_type": "markdown",
   "metadata": {},
   "source": [
    "Making a list of verbs works similarly:"
   ]
  },
  {
   "cell_type": "code",
   "execution_count": 23,
   "metadata": {
    "collapsed": true
   },
   "outputs": [],
   "source": [
    "verbs = [item.text for item in doc if item.pos_ == 'VERB']"
   ]
  },
  {
   "cell_type": "markdown",
   "metadata": {},
   "source": [
    "Although in this case, you'll notice the list of verbs is a bit unintuitive. We're getting words like \"should\" and \"are\" and \"has\"—helper verbs that maybe don't fit our idea of what verbs we want to extract."
   ]
  },
  {
   "cell_type": "code",
   "execution_count": 24,
   "metadata": {},
   "outputs": [
    {
     "data": {
      "text/plain": [
       "['are', 'born', 'are', 'endowed', 'should', 'act', 'has']"
      ]
     },
     "execution_count": 24,
     "metadata": {},
     "output_type": "execute_result"
    }
   ],
   "source": [
    "verbs"
   ]
  },
  {
   "cell_type": "markdown",
   "metadata": {},
   "source": [
    "This is because we used the `.pos_` attribute, which only gives us general information about the part of speech. The `.tag_` attribute allows us to be more specific about the kinds of verbs we want. For example, this code gives us only the verbs in past participle form:"
   ]
  },
  {
   "cell_type": "code",
   "execution_count": 25,
   "metadata": {
    "collapsed": true
   },
   "outputs": [],
   "source": [
    "only_past = [item.text for item in doc if item.tag_ == 'VBN']"
   ]
  },
  {
   "cell_type": "code",
   "execution_count": 26,
   "metadata": {},
   "outputs": [
    {
     "data": {
      "text/plain": [
       "['born', 'endowed']"
      ]
     },
     "execution_count": 26,
     "metadata": {},
     "output_type": "execute_result"
    }
   ],
   "source": [
    "only_past"
   ]
  },
  {
   "cell_type": "markdown",
   "metadata": {},
   "source": [
    "## Larger syntactic units\n",
    "\n",
    "Okay, so we can get individual words by their part of speech. Great! But what if we want larger chunks, based on their syntactic role in the sentence? The easy way is `.noun_chunks`, which is an attribute of a document or a sentence that evaluates to a list of [spans](https://spacy.io/docs/api/span) of noun phrases, regardless of their position in the document:"
   ]
  },
  {
   "cell_type": "code",
   "execution_count": 27,
   "metadata": {},
   "outputs": [
    {
     "name": "stdout",
     "output_type": "stream",
     "text": [
      "All human beings, dignity, rights, They, reason, conscience, a spirit, brotherhood, Everyone, the right, life, liberty, security, person\n"
     ]
    }
   ],
   "source": [
    "noun_chunks = [item.text for item in doc.noun_chunks]\n",
    "print(\", \".join(noun_chunks))"
   ]
  },
  {
   "cell_type": "markdown",
   "metadata": {},
   "source": [
    "For anything more sophisticated than this, though, we'll need to learn about how spaCy parses sentences into its syntactic components."
   ]
  },
  {
   "cell_type": "markdown",
   "metadata": {},
   "source": [
    "### Understanding dependency grammars"
   ]
  },
  {
   "cell_type": "markdown",
   "metadata": {},
   "source": [
    "![displacy parse](http://static.decontextualize.com/syntax_example.png)\n",
    "\n",
    "[See in \"displacy\", spaCy's syntax visualization tool.](https://demos.explosion.ai/displacy/?text=Everyone%20has%20the%20right%20to%20life%2C%20liberty%20and%20security%20of%20person&model=en&cpu=1&cph=0)"
   ]
  },
  {
   "cell_type": "markdown",
   "metadata": {},
   "source": [
    "The spaCy library parses the underlying sentences using a [dependency grammar](https://en.wikipedia.org/wiki/Dependency_grammar). Dependency grammars look different from the kinds of sentence diagramming you may have done in high school, and even from tree-based [phrase structure grammars](https://en.wikipedia.org/wiki/Phrase_structure_grammar) commonly used in descriptive linguistics. The idea of a dependency grammar is that every word in a sentence is a \"dependent\" of some other word, which is that word's \"head.\" Those \"head\" words are in turn dependents of other words. The finite verb in the sentence is the ultimate \"head\" of the sentence, and is not itself dependent on any other word. (The dependents of a particular head are sometimes called its \"children.\")\n",
    "\n",
    "The question of how to know what constitutes a \"head\" and a \"dependent\" is complicated. As a starting point, here's a passage from [Dependency Grammar and Dependency Parsing](http://stp.lingfil.uu.se/~nivre/docs/05133.pdf):\n",
    "\n",
    "> Here are some of the criteria that have been proposed for identifying a syntactic relation between a head H and a dependent D in a construction C (Zwicky, 1985; Hudson, 1990):\n",
    ">\n",
    "> 1. H determines the syntactic category of C and can often replace C.\n",
    "> 2. H determines the semantic category of C; D gives semantic specification.\n",
    "> 3. H is obligatory; D may be optional.\n",
    "> 4. H selects D and determines whether D is obligatory or optional.\n",
    "> 5. The form of D depends on H (agreement or government).\n",
    "> 6. The linear position of D is specified with reference to H.\"\n",
    "\n",
    "Dependents are related to their heads by a *syntactic relation*. The name of the syntactic relation describes the relationship between the head and the dependent. Use the displaCy visualizer (linked above) to see how a particular sentence is parsed, and what the relations between the heads and dependents are.\n",
    "\n",
    "Every token object in a spaCy document or sentence has attributes that tell you what the word's head is, what the dependency relationship is between that word and its head, and a list of that word's children (dependents). The following code prints out each word in the sentence, the tag, the word's head, the word's dependency relation with its head, and the word's children (i.e., dependent words):"
   ]
  },
  {
   "cell_type": "code",
   "execution_count": 29,
   "metadata": {},
   "outputs": [
    {
     "name": "stdout",
     "output_type": "stream",
     "text": [
      "Word: Everyone\n",
      "Tag: NN\n",
      "Head: has\n",
      "Dependency relation: nsubj\n",
      "Children: []\n",
      "\n",
      "Word: has\n",
      "Tag: VBZ\n",
      "Head: has\n",
      "Dependency relation: ROOT\n",
      "Children: [Everyone, right, .]\n",
      "\n",
      "Word: the\n",
      "Tag: DT\n",
      "Head: right\n",
      "Dependency relation: det\n",
      "Children: []\n",
      "\n",
      "Word: right\n",
      "Tag: NN\n",
      "Head: has\n",
      "Dependency relation: dobj\n",
      "Children: [the, to]\n",
      "\n",
      "Word: to\n",
      "Tag: IN\n",
      "Head: right\n",
      "Dependency relation: prep\n",
      "Children: [life]\n",
      "\n",
      "Word: life\n",
      "Tag: NN\n",
      "Head: to\n",
      "Dependency relation: pobj\n",
      "Children: [,, liberty]\n",
      "\n",
      "Word: ,\n",
      "Tag: ,\n",
      "Head: life\n",
      "Dependency relation: punct\n",
      "Children: []\n",
      "\n",
      "Word: liberty\n",
      "Tag: NN\n",
      "Head: life\n",
      "Dependency relation: conj\n",
      "Children: [and, security]\n",
      "\n",
      "Word: and\n",
      "Tag: CC\n",
      "Head: liberty\n",
      "Dependency relation: cc\n",
      "Children: []\n",
      "\n",
      "Word: security\n",
      "Tag: NN\n",
      "Head: liberty\n",
      "Dependency relation: conj\n",
      "Children: [of]\n",
      "\n",
      "Word: of\n",
      "Tag: IN\n",
      "Head: security\n",
      "Dependency relation: prep\n",
      "Children: [person]\n",
      "\n",
      "Word: person\n",
      "Tag: NN\n",
      "Head: of\n",
      "Dependency relation: pobj\n",
      "Children: []\n",
      "\n",
      "Word: .\n",
      "Tag: .\n",
      "Head: has\n",
      "Dependency relation: punct\n",
      "Children: []\n",
      "\n"
     ]
    }
   ],
   "source": [
    "for word in list(doc.sents)[2]:\n",
    "    print(\"Word:\", word.text)\n",
    "    print(\"Tag:\", word.tag_)\n",
    "    print(\"Head:\", word.head.text)\n",
    "    print(\"Dependency relation:\", word.dep_)\n",
    "    print(\"Children:\", list(word.children))\n",
    "    print()"
   ]
  },
  {
   "cell_type": "markdown",
   "metadata": {},
   "source": [
    "Here's a list of a few dependency relations and what they mean. ([A more complete list can be found here.](http://www.mathcs.emory.edu/~choi/doc/clear-dependency-2012.pdf))\n",
    "\n",
    "* `nsubj`: this word's head is a verb, and this word is itself the subject of the verb\n",
    "* `nsubjpass`: same as above, but for subjects in sentences in the passive voice\n",
    "* `dobj`: this word's head is a verb, and this word is itself the direct object of the verb\n",
    "* `iobj`: same as above, but indirect object\n",
    "* `aux`: this word's head is a verb, and this word is an \"auxiliary\" verb (like \"have\", \"will\", \"be\")\n",
    "* `attr`: this word's head is a copula (like \"to be\"), and this is the description attributed to the subject of the sentence (e.g., in \"This product is a global brand\", `brand` is dependent on `is` with the `attr` dependency relation)\n",
    "* `det`: this word's head is a noun, and this word is a determiner of that noun (like \"the,\" \"this,\" etc.)\n",
    "* `amod`: this word's head is a noun, and this word is an adjective describing that noun\n",
    "* `prep`: this word is a preposition that modifies its head\n",
    "* `pobj`: this word is a dependent (object) of a preposition"
   ]
  },
  {
   "cell_type": "markdown",
   "metadata": {},
   "source": [
    "### Using .subtree for extracting syntactic units\n",
    "\n",
    "The `.subtree` attribute evaluates to a generator that can be flatted by passing it to `list()`. This is a list of the word's syntactic dependents—essentially, the \"clause\" that the word belongs to."
   ]
  },
  {
   "cell_type": "markdown",
   "metadata": {},
   "source": [
    "This function merges a subtree and returns a string with the text of the words contained in it:"
   ]
  },
  {
   "cell_type": "code",
   "execution_count": 30,
   "metadata": {
    "collapsed": true
   },
   "outputs": [],
   "source": [
    "def flatten_subtree(st):\n",
    "    return ''.join([w.text_with_ws for w in list(st)]).strip()"
   ]
  },
  {
   "cell_type": "markdown",
   "metadata": {},
   "source": [
    "With this function in our toolbox, we can write a loop that prints out the subtree for each word in a sentence:"
   ]
  },
  {
   "cell_type": "code",
   "execution_count": 32,
   "metadata": {},
   "outputs": [
    {
     "name": "stdout",
     "output_type": "stream",
     "text": [
      "Word: Everyone\n",
      "Flattened subtree:  Everyone\n",
      "\n",
      "Word: has\n",
      "Flattened subtree:  Everyone has the right to life, liberty and security of person.\n",
      "\n",
      "Word: the\n",
      "Flattened subtree:  the\n",
      "\n",
      "Word: right\n",
      "Flattened subtree:  the right to life, liberty and security of person\n",
      "\n",
      "Word: to\n",
      "Flattened subtree:  to life, liberty and security of person\n",
      "\n",
      "Word: life\n",
      "Flattened subtree:  life, liberty and security of person\n",
      "\n",
      "Word: ,\n",
      "Flattened subtree:  ,\n",
      "\n",
      "Word: liberty\n",
      "Flattened subtree:  liberty and security of person\n",
      "\n",
      "Word: and\n",
      "Flattened subtree:  and\n",
      "\n",
      "Word: security\n",
      "Flattened subtree:  security of person\n",
      "\n",
      "Word: of\n",
      "Flattened subtree:  of person\n",
      "\n",
      "Word: person\n",
      "Flattened subtree:  person\n",
      "\n",
      "Word: .\n",
      "Flattened subtree:  .\n",
      "\n"
     ]
    }
   ],
   "source": [
    "for word in list(doc.sents)[2]:\n",
    "    print(\"Word:\", word.text)\n",
    "    print(\"Flattened subtree: \", flatten_subtree(word.subtree))\n",
    "    print()"
   ]
  },
  {
   "cell_type": "markdown",
   "metadata": {},
   "source": [
    "Using the subtree and our knowledge of dependency relation types, we can write code that extracts larger syntactic units based on their relationship with the rest of the sentence. For example, to get all of the noun phrases that are subjects of a verb:"
   ]
  },
  {
   "cell_type": "code",
   "execution_count": 33,
   "metadata": {
    "collapsed": true
   },
   "outputs": [],
   "source": [
    "subjects = []\n",
    "for word in doc:\n",
    "    if word.dep_ in ('nsubj', 'nsubjpass'):\n",
    "        subjects.append(flatten_subtree(word.subtree))"
   ]
  },
  {
   "cell_type": "code",
   "execution_count": 34,
   "metadata": {},
   "outputs": [
    {
     "data": {
      "text/plain": [
       "['All human beings', 'They', 'Everyone']"
      ]
     },
     "execution_count": 34,
     "metadata": {},
     "output_type": "execute_result"
    }
   ],
   "source": [
    "subjects"
   ]
  },
  {
   "cell_type": "markdown",
   "metadata": {},
   "source": [
    "Or every prepositional phrase:"
   ]
  },
  {
   "cell_type": "code",
   "execution_count": 35,
   "metadata": {
    "collapsed": true
   },
   "outputs": [],
   "source": [
    "prep_phrases = []\n",
    "for word in doc:\n",
    "    if word.dep_ == 'prep':\n",
    "        prep_phrases.append(flatten_subtree(word.subtree))"
   ]
  },
  {
   "cell_type": "code",
   "execution_count": 36,
   "metadata": {},
   "outputs": [
    {
     "data": {
      "text/plain": [
       "['in dignity and rights',\n",
       " 'with reason and conscience',\n",
       " 'towards one another',\n",
       " 'in a spirit of brotherhood',\n",
       " 'of brotherhood',\n",
       " 'to life, liberty and security of person',\n",
       " 'of person']"
      ]
     },
     "execution_count": 36,
     "metadata": {},
     "output_type": "execute_result"
    }
   ],
   "source": [
    "prep_phrases"
   ]
  },
  {
   "cell_type": "markdown",
   "metadata": {},
   "source": [
    "## Entity extraction\n",
    "\n",
    "A common task in NLP is taking a text and extracting \"named entities\" from it—basically, proper nouns, or names of companies, products, locations, etc. You can easily access this information using the `.ents` property of a document."
   ]
  },
  {
   "cell_type": "code",
   "execution_count": 37,
   "metadata": {
    "collapsed": true
   },
   "outputs": [],
   "source": [
    "doc2 = nlp(\"John McCain and I visited the Apple Store in Manhattan.\")"
   ]
  },
  {
   "cell_type": "code",
   "execution_count": 39,
   "metadata": {},
   "outputs": [
    {
     "name": "stdout",
     "output_type": "stream",
     "text": [
      "John McCain\n",
      "the Apple Store\n",
      "Manhattan\n"
     ]
    }
   ],
   "source": [
    "for item in doc2.ents:\n",
    "    print(item)"
   ]
  },
  {
   "cell_type": "markdown",
   "metadata": {},
   "source": [
    "Entity objects have a `.label_` attribute that tells you the type of the entity. ([Here's a full list of the built-in entity types.](https://spacy.io/docs/usage/entity-recognition#entity-types))"
   ]
  },
  {
   "cell_type": "code",
   "execution_count": 42,
   "metadata": {},
   "outputs": [
    {
     "name": "stdout",
     "output_type": "stream",
     "text": [
      "John McCain PERSON\n",
      "the Apple Store ORG\n",
      "Manhattan GPE\n"
     ]
    }
   ],
   "source": [
    "for item in doc2.ents:\n",
    "    print(item.text, item.label_)"
   ]
  },
  {
   "cell_type": "markdown",
   "metadata": {},
   "source": [
    "## Loading data from a file\n",
    "\n",
    "You can load data from a file easily with spaCy. [Here's the first few verses from the King James Version of the Bible](http://rwet.decontextualize.com/texts/genesis.txt), for example. (Download the linked file and make sure it's in the same directory as this notebook.)"
   ]
  },
  {
   "cell_type": "code",
   "execution_count": 45,
   "metadata": {},
   "outputs": [],
   "source": [
    "doc3 = nlp(open(\"genesis.txt\").read())"
   ]
  },
  {
   "cell_type": "markdown",
   "metadata": {},
   "source": [
    "From here, we can see what entities were here with us from the very beginning:"
   ]
  },
  {
   "cell_type": "code",
   "execution_count": 47,
   "metadata": {},
   "outputs": [
    {
     "name": "stdout",
     "output_type": "stream",
     "text": [
      "earth LOC\n",
      "God PERSON\n",
      "God PERSON\n",
      "God PERSON\n",
      "God PERSON\n",
      "Night PERSON\n",
      "the first day DATE\n",
      "God PERSON\n",
      "God PERSON\n",
      "God PERSON\n",
      "the second day DATE\n",
      "God PERSON\n",
      "one CARDINAL\n",
      "Earth LOC\n",
      "God PERSON\n",
      "the third day DATE\n",
      "God PERSON\n",
      "God PERSON\n",
      "two CARDINAL\n",
      "the day DATE\n",
      "the night TIME\n",
      "the day DATE\n",
      "the fourth day DATE\n",
      "God PERSON\n",
      "God PERSON\n",
      "God PERSON\n",
      "God PERSON\n",
      "God PERSON\n",
      "God PERSON\n",
      "God PERSON\n",
      "God PERSON\n",
      "God PERSON\n",
      "God PERSON\n",
      "the sixth day DATE\n"
     ]
    }
   ],
   "source": [
    "for item in doc3.ents:\n",
    "    print(item.text, item.label_)"
   ]
  },
  {
   "cell_type": "markdown",
   "metadata": {},
   "source": [
    "## Dead simple \"topic models\"\n",
    "\n",
    "A \"topic model\" is a statistical technique for extracting \"topics\" from text–i.e., keywords that occur in particular documents more than in other documents. Most topic models are designed to be used to compare large corpora of many documents, and for those scenarios, you'd want to use a library like [Gensim](https://radimrehurek.com/gensim/). When you're working with a small corpus, or with an individual document, these techniques aren't as relevant. But there are a number of smaller-scale ways to extract topics in these scenarios.\n",
    "\n",
    "### Counting words\n",
    "\n",
    "The Python `Counter` object provides an easy way to count the number of times that particular items occur in a list. [Here's a more detailed tutorial about `Counter`](https://gist.github.com/aparrish/4b096b95bfbd636733b7b9f2636b8cf4), but the basics are easy to understand. First, import `Counter` from Python's built-in `collections` library:"
   ]
  },
  {
   "cell_type": "code",
   "execution_count": 48,
   "metadata": {
    "collapsed": true
   },
   "outputs": [],
   "source": [
    "from collections import Counter"
   ]
  },
  {
   "cell_type": "markdown",
   "metadata": {},
   "source": [
    "And then pass a list of strings to `Counter()`, assigning the result to a variable. I'll start by just counting raw word counts:"
   ]
  },
  {
   "cell_type": "code",
   "execution_count": 70,
   "metadata": {},
   "outputs": [],
   "source": [
    "word_counts = Counter([item.text for item in doc3 if item.is_alpha])"
   ]
  },
  {
   "cell_type": "markdown",
   "metadata": {},
   "source": [
    "(The `if item.is_alpha` clause in the list comprehension above limits the list to only tokens that are alphanumeric, i.e., excluding punctuation.)\n",
    "\n",
    "The `word_counts` variable contains a `Counter` object, which has a few interesting methods and properties. If you just evaluate it, you get a dictionary-like object that maps tokens to the number of times those tokens occur:"
   ]
  },
  {
   "cell_type": "code",
   "execution_count": 71,
   "metadata": {},
   "outputs": [
    {
     "data": {
      "text/plain": [
       "Counter({'And': 33,\n",
       "         'Be': 2,\n",
       "         'Behold': 1,\n",
       "         'Day': 1,\n",
       "         'Earth': 1,\n",
       "         'God': 32,\n",
       "         'Heaven': 1,\n",
       "         'I': 2,\n",
       "         'In': 1,\n",
       "         'Let': 8,\n",
       "         'Night': 1,\n",
       "         'Seas': 1,\n",
       "         'So': 1,\n",
       "         'Spirit': 1,\n",
       "         'a': 2,\n",
       "         'above': 2,\n",
       "         'abundantly': 2,\n",
       "         'after': 11,\n",
       "         'air': 3,\n",
       "         'all': 2,\n",
       "         'also': 1,\n",
       "         'and': 64,\n",
       "         'appear': 1,\n",
       "         'be': 7,\n",
       "         'bearing': 1,\n",
       "         'beast': 3,\n",
       "         'beginning': 1,\n",
       "         'behold': 1,\n",
       "         'blessed': 2,\n",
       "         'bring': 3,\n",
       "         'brought': 2,\n",
       "         'called': 5,\n",
       "         'cattle': 3,\n",
       "         'created': 5,\n",
       "         'creature': 3,\n",
       "         'creepeth': 3,\n",
       "         'creeping': 2,\n",
       "         'darkness': 4,\n",
       "         'day': 9,\n",
       "         'days': 1,\n",
       "         'deep': 1,\n",
       "         'divide': 3,\n",
       "         'divided': 2,\n",
       "         'dominion': 2,\n",
       "         'dry': 2,\n",
       "         'earth': 20,\n",
       "         'evening': 6,\n",
       "         'every': 12,\n",
       "         'face': 3,\n",
       "         'female': 1,\n",
       "         'fifth': 1,\n",
       "         'fill': 1,\n",
       "         'firmament': 9,\n",
       "         'first': 1,\n",
       "         'fish': 2,\n",
       "         'fly': 1,\n",
       "         'for': 6,\n",
       "         'form': 1,\n",
       "         'forth': 5,\n",
       "         'fourth': 1,\n",
       "         'fowl': 6,\n",
       "         'from': 5,\n",
       "         'fruit': 4,\n",
       "         'fruitful': 2,\n",
       "         'gathered': 1,\n",
       "         'gathering': 1,\n",
       "         'give': 2,\n",
       "         'given': 2,\n",
       "         'good': 7,\n",
       "         'grass': 2,\n",
       "         'great': 2,\n",
       "         'greater': 1,\n",
       "         'green': 1,\n",
       "         'had': 1,\n",
       "         'hath': 1,\n",
       "         'have': 4,\n",
       "         'he': 6,\n",
       "         'heaven': 6,\n",
       "         'herb': 4,\n",
       "         'him': 1,\n",
       "         'his': 9,\n",
       "         'image': 3,\n",
       "         'in': 13,\n",
       "         'is': 4,\n",
       "         'it': 16,\n",
       "         'itself': 2,\n",
       "         'kind': 10,\n",
       "         'land': 2,\n",
       "         'lesser': 1,\n",
       "         'let': 6,\n",
       "         'life': 2,\n",
       "         'light': 10,\n",
       "         'lights': 3,\n",
       "         'likeness': 1,\n",
       "         'living': 3,\n",
       "         'made': 5,\n",
       "         'make': 1,\n",
       "         'male': 1,\n",
       "         'man': 2,\n",
       "         'may': 1,\n",
       "         'meat': 2,\n",
       "         'midst': 1,\n",
       "         'morning': 6,\n",
       "         'moved': 1,\n",
       "         'moveth': 2,\n",
       "         'moving': 1,\n",
       "         'multiply': 3,\n",
       "         'night': 3,\n",
       "         'of': 20,\n",
       "         'one': 1,\n",
       "         'open': 1,\n",
       "         'our': 2,\n",
       "         'over': 10,\n",
       "         'own': 1,\n",
       "         'place': 1,\n",
       "         'replenish': 1,\n",
       "         'rule': 3,\n",
       "         'said': 10,\n",
       "         'saw': 7,\n",
       "         'saying': 1,\n",
       "         'sea': 2,\n",
       "         'seas': 1,\n",
       "         'seasons': 1,\n",
       "         'second': 1,\n",
       "         'seed': 6,\n",
       "         'set': 1,\n",
       "         'shall': 1,\n",
       "         'signs': 1,\n",
       "         'sixth': 1,\n",
       "         'so': 6,\n",
       "         'stars': 1,\n",
       "         'subdue': 1,\n",
       "         'that': 14,\n",
       "         'the': 108,\n",
       "         'their': 2,\n",
       "         'them': 8,\n",
       "         'there': 5,\n",
       "         'thing': 6,\n",
       "         'third': 1,\n",
       "         'to': 11,\n",
       "         'together': 2,\n",
       "         'tree': 4,\n",
       "         'two': 1,\n",
       "         'under': 2,\n",
       "         'unto': 2,\n",
       "         'upon': 10,\n",
       "         'us': 1,\n",
       "         'very': 1,\n",
       "         'void': 1,\n",
       "         'was': 17,\n",
       "         'waters': 11,\n",
       "         'were': 8,\n",
       "         'whales': 1,\n",
       "         'wherein': 1,\n",
       "         'which': 5,\n",
       "         'whose': 2,\n",
       "         'winged': 1,\n",
       "         'without': 1,\n",
       "         'years': 1,\n",
       "         'yielding': 5,\n",
       "         'you': 2})"
      ]
     },
     "execution_count": 71,
     "metadata": {},
     "output_type": "execute_result"
    }
   ],
   "source": [
    "word_counts"
   ]
  },
  {
   "cell_type": "markdown",
   "metadata": {},
   "source": [
    "You can get the count for a particular token by using square bracket indexing with the `Counter` object:"
   ]
  },
  {
   "cell_type": "code",
   "execution_count": 72,
   "metadata": {},
   "outputs": [
    {
     "data": {
      "text/plain": [
       "9"
      ]
     },
     "execution_count": 72,
     "metadata": {},
     "output_type": "execute_result"
    }
   ],
   "source": [
    "word_counts['firmament']"
   ]
  },
  {
   "cell_type": "markdown",
   "metadata": {},
   "source": [
    "Or you can get the *n* most frequent items using the `.most_common()` method, which takes an integer parameter to limit the list to a certain number of items, sorted from most frequent to least:"
   ]
  },
  {
   "cell_type": "code",
   "execution_count": 74,
   "metadata": {},
   "outputs": [
    {
     "data": {
      "text/plain": [
       "[('the', 108),\n",
       " ('and', 64),\n",
       " ('And', 33),\n",
       " ('God', 32),\n",
       " ('earth', 20),\n",
       " ('of', 20),\n",
       " ('was', 17),\n",
       " ('it', 16),\n",
       " ('that', 14),\n",
       " ('in', 13)]"
      ]
     },
     "execution_count": 74,
     "metadata": {},
     "output_type": "execute_result"
    }
   ],
   "source": [
    "word_counts.most_common(10)"
   ]
  },
  {
   "cell_type": "markdown",
   "metadata": {},
   "source": [
    "This is a list of [tuples](https://docs.python.org/3.5/library/stdtypes.html#typesseq-tuple). (Tuples are just like lists, except you can't change them after you create them.) To get just the list of the ten most common nouns:"
   ]
  },
  {
   "cell_type": "code",
   "execution_count": 75,
   "metadata": {},
   "outputs": [
    {
     "name": "stdout",
     "output_type": "stream",
     "text": [
      "the, and, And, God, earth, of, was, it, that, in\n"
     ]
    }
   ],
   "source": [
    "top_ten_words = [item[0] for item in word_counts.most_common(10)]\n",
    "print(\", \".join(top_ten_words))"
   ]
  },
  {
   "cell_type": "markdown",
   "metadata": {},
   "source": [
    "You can think of this as a kind of (very simple!) topic model–essentially, the words that occur in this document more than any other word.\n",
    "\n",
    "### Word probabilities\n",
    "\n",
    "Of course, this particular way of modelling topics in a text isn't terribly useful—of the top ten items on the list, at least eight of them (excluding \"God\" and \"earth\") could be expected to occur in similar frequencies in *any* given source text. A potentially more interesting way to formulate the problem is to ask: what words are *uniquely* frequent in this text (and not any arbitrary English text)?\n",
    "\n",
    "There are a few ways to implement this formulation. With a large corpus of many documents, [tf-idf] would be a good start. With our smaller corpus, it might simply be sufficient to get a list of the *least common words* in the text. Fortunately, spaCy provides a `.prob` attribute on every `Token` object that gives a [log probability](https://en.wikipedia.org/wiki/Log_probability) estimate of the token's occurrence in English (essentially a measure of how \"rare\" the word is). The code in the following cell shows each token with its estimated probability:"
   ]
  },
  {
   "cell_type": "code",
   "execution_count": 84,
   "metadata": {},
   "outputs": [
    {
     "data": {
      "text/plain": [
       "[('In', -7.603263854980469),\n",
       " ('the', -3.528766632080078),\n",
       " ('beginning', -9.830488204956055),\n",
       " ('God', -8.62376594543457),\n",
       " ('created', -9.588191986083984),\n",
       " ('the', -3.528766632080078),\n",
       " ('heaven', -11.090792655944824),\n",
       " ('and', -4.113108158111572),\n",
       " ('the', -3.528766632080078),\n",
       " ('earth', -9.99667739868164),\n",
       " ('.', -3.0678977966308594),\n",
       " ('\\n', -6.0506510734558105),\n",
       " ('And', -7.012199401855469),\n",
       " ('the', -3.528766632080078),\n",
       " ('earth', -9.99667739868164),\n",
       " ('was', -5.252320289611816),\n",
       " ('without', -7.694504261016846),\n",
       " ('form', -9.062009811401367),\n",
       " (',', -3.4549596309661865),\n",
       " ('and', -4.113108158111572),\n",
       " ('void', -11.47757625579834),\n",
       " (';', -6.586422920227051),\n",
       " ('and', -4.113108158111572),\n",
       " ('darkness', -11.919983863830566),\n",
       " ('was', -5.252320289611816),\n",
       " ('upon', -9.668910026550293),\n",
       " ('the', -3.528766632080078),\n",
       " ('face', -8.504852294921875),\n",
       " ('of', -4.27587366104126),\n",
       " ('the', -3.528766632080078),\n",
       " ('deep', -9.749591827392578),\n",
       " ('.', -3.0678977966308594),\n",
       " ('And', -7.012199401855469),\n",
       " ('the', -3.528766632080078),\n",
       " ('Spirit', -11.763670921325684),\n",
       " ('of', -4.27587366104126),\n",
       " ('God', -8.62376594543457),\n",
       " ('moved', -9.661837577819824),\n",
       " ('upon', -9.668910026550293),\n",
       " ('the', -3.528766632080078),\n",
       " ('face', -8.504852294921875),\n",
       " ('of', -4.27587366104126),\n",
       " ('the', -3.528766632080078),\n",
       " ('waters', -12.281831741333008),\n",
       " ('.', -3.0678977966308594),\n",
       " ('\\n', -6.0506510734558105),\n",
       " ('And', -7.012199401855469),\n",
       " ('God', -8.62376594543457),\n",
       " ('said', -7.258025169372559),\n",
       " (',', -3.4549596309661865),\n",
       " ('Let', -9.06763744354248),\n",
       " ('there', -6.135282039642334),\n",
       " ('be', -5.225094318389893),\n",
       " ('light', -8.946004867553711),\n",
       " (':', -6.128875732421875),\n",
       " ('and', -4.113108158111572),\n",
       " ('there', -6.135282039642334),\n",
       " ('was', -5.252320289611816),\n",
       " ('light', -8.946004867553711),\n",
       " ('.', -3.0678977966308594),\n",
       " ('\\n', -6.0506510734558105),\n",
       " ('And', -7.012199401855469),\n",
       " ('God', -8.62376594543457),\n",
       " ('saw', -8.472514152526855),\n",
       " ('the', -3.528766632080078),\n",
       " ('light', -8.946004867553711),\n",
       " (',', -3.4549596309661865),\n",
       " ('that', -4.464504718780518),\n",
       " ('it', -4.388050079345703),\n",
       " ('was', -5.252320289611816),\n",
       " ('good', -6.518923759460449),\n",
       " (':', -6.128875732421875),\n",
       " ('and', -4.113108158111572),\n",
       " ('God', -8.62376594543457),\n",
       " ('divided', -11.975107192993164),\n",
       " ('the', -3.528766632080078),\n",
       " ('light', -8.946004867553711),\n",
       " ('from', -6.010132312774658),\n",
       " ('the', -3.528766632080078),\n",
       " ('darkness', -11.919983863830566),\n",
       " ('.', -3.0678977966308594),\n",
       " ('\\n', -6.0506510734558105),\n",
       " ('And', -7.012199401855469),\n",
       " ('God', -8.62376594543457),\n",
       " ('called', -8.404229164123535),\n",
       " ('the', -3.528766632080078),\n",
       " ('light', -8.946004867553711),\n",
       " ('Day', -10.51368522644043),\n",
       " (',', -3.4549596309661865),\n",
       " ('and', -4.113108158111572),\n",
       " ('the', -3.528766632080078),\n",
       " ('darkness', -11.919983863830566),\n",
       " ('he', -5.9319047927856445),\n",
       " ('called', -8.404229164123535),\n",
       " ('Night', -11.253206253051758),\n",
       " ('.', -3.0678977966308594),\n",
       " ('And', -7.012199401855469),\n",
       " ('the', -3.528766632080078),\n",
       " ('evening', -11.057689666748047),\n",
       " ('and', -4.113108158111572),\n",
       " ('the', -3.528766632080078),\n",
       " ('morning', -9.529314041137695),\n",
       " ('were', -6.673174858093262),\n",
       " ('the', -3.528766632080078),\n",
       " ('first', -7.063716888427734),\n",
       " ('day', -7.400947093963623),\n",
       " ('.', -3.0678977966308594),\n",
       " ('\\n', -6.0506510734558105),\n",
       " ('And', -7.012199401855469),\n",
       " ('God', -8.62376594543457),\n",
       " ('said', -7.258025169372559),\n",
       " (',', -3.4549596309661865),\n",
       " ('Let', -9.06763744354248),\n",
       " ('there', -6.135282039642334),\n",
       " ('be', -5.225094318389893),\n",
       " ('a', -3.92978835105896),\n",
       " ('firmament', -16.231229782104492),\n",
       " ('in', -4.619071960449219),\n",
       " ('the', -3.528766632080078),\n",
       " ('midst', -13.061905860900879),\n",
       " ('of', -4.27587366104126),\n",
       " ('the', -3.528766632080078),\n",
       " ('waters', -12.281831741333008),\n",
       " (',', -3.4549596309661865),\n",
       " ('and', -4.113108158111572),\n",
       " ('let', -7.795135974884033),\n",
       " ('it', -4.388050079345703),\n",
       " ('divide', -11.869361877441406),\n",
       " ('the', -3.528766632080078),\n",
       " ('waters', -12.281831741333008),\n",
       " ('from', -6.010132312774658),\n",
       " ('the', -3.528766632080078),\n",
       " ('waters', -12.281831741333008),\n",
       " ('.', -3.0678977966308594),\n",
       " ('\\n', -6.0506510734558105),\n",
       " ('And', -7.012199401855469),\n",
       " ('God', -8.62376594543457),\n",
       " ('made', -7.399899005889893),\n",
       " ('the', -3.528766632080078),\n",
       " ('firmament', -16.231229782104492),\n",
       " (',', -3.4549596309661865),\n",
       " ('and', -4.113108158111572),\n",
       " ('divided', -11.975107192993164),\n",
       " ('the', -3.528766632080078),\n",
       " ('waters', -12.281831741333008),\n",
       " ('which', -6.877470970153809),\n",
       " ('were', -6.673174858093262),\n",
       " ('under', -8.406200408935547),\n",
       " ('the', -3.528766632080078),\n",
       " ('firmament', -16.231229782104492),\n",
       " ('from', -6.010132312774658),\n",
       " ('the', -3.528766632080078),\n",
       " ('waters', -12.281831741333008),\n",
       " ('which', -6.877470970153809),\n",
       " ('were', -6.673174858093262),\n",
       " ('above', -8.968317031860352),\n",
       " ('the', -3.528766632080078),\n",
       " ('firmament', -16.231229782104492),\n",
       " (':', -6.128875732421875),\n",
       " ('and', -4.113108158111572),\n",
       " ('it', -4.388050079345703),\n",
       " ('was', -5.252320289611816),\n",
       " ('so', -5.823773384094238),\n",
       " ('.', -3.0678977966308594),\n",
       " ('\\n', -6.0506510734558105),\n",
       " ('And', -7.012199401855469),\n",
       " ('God', -8.62376594543457),\n",
       " ('called', -8.404229164123535),\n",
       " ('the', -3.528766632080078),\n",
       " ('firmament', -16.231229782104492),\n",
       " ('Heaven', -12.099185943603516),\n",
       " ('.', -3.0678977966308594),\n",
       " ('And', -7.012199401855469),\n",
       " ('the', -3.528766632080078),\n",
       " ('evening', -11.057689666748047),\n",
       " ('and', -4.113108158111572),\n",
       " ('the', -3.528766632080078),\n",
       " ('morning', -9.529314041137695),\n",
       " ('were', -6.673174858093262),\n",
       " ('the', -3.528766632080078),\n",
       " ('second', -8.351142883300781),\n",
       " ('day', -7.400947093963623),\n",
       " ('.', -3.0678977966308594),\n",
       " ('\\n', -6.0506510734558105),\n",
       " ('And', -7.012199401855469),\n",
       " ('God', -8.62376594543457),\n",
       " ('said', -7.258025169372559),\n",
       " (',', -3.4549596309661865),\n",
       " ('Let', -9.06763744354248),\n",
       " ('the', -3.528766632080078),\n",
       " ('waters', -12.281831741333008),\n",
       " ('under', -8.406200408935547),\n",
       " ('the', -3.528766632080078),\n",
       " ('heaven', -11.090792655944824),\n",
       " ('be', -5.225094318389893),\n",
       " ('gathered', -12.185676574707031),\n",
       " ('together', -8.643941879272461),\n",
       " ('unto', -12.566207885742188),\n",
       " ('one', -5.996385097503662),\n",
       " ('place', -7.954748153686523),\n",
       " (',', -3.4549596309661865),\n",
       " ('and', -4.113108158111572),\n",
       " ('let', -7.795135974884033),\n",
       " ('the', -3.528766632080078),\n",
       " ('dry', -10.190937995910645),\n",
       " ('land', -9.610007286071777),\n",
       " ('appear', -10.208020210266113),\n",
       " (':', -6.128875732421875),\n",
       " ('and', -4.113108158111572),\n",
       " ('it', -4.388050079345703),\n",
       " ('was', -5.252320289611816),\n",
       " ('so', -5.823773384094238),\n",
       " ('.', -3.0678977966308594),\n",
       " ('\\n', -6.0506510734558105),\n",
       " ('And', -7.012199401855469),\n",
       " ('God', -8.62376594543457),\n",
       " ('called', -8.404229164123535),\n",
       " ('the', -3.528766632080078),\n",
       " ('dry', -10.190937995910645),\n",
       " ('land', -9.610007286071777),\n",
       " ('Earth', -10.288922309875488),\n",
       " (';', -6.586422920227051),\n",
       " ('and', -4.113108158111572),\n",
       " ('the', -3.528766632080078),\n",
       " ('gathering', -11.882373809814453),\n",
       " ('together', -8.643941879272461),\n",
       " ('of', -4.27587366104126),\n",
       " ('the', -3.528766632080078),\n",
       " ('waters', -12.281831741333008),\n",
       " ('called', -8.404229164123535),\n",
       " ('he', -5.9319047927856445),\n",
       " ('Seas', -14.832231521606445),\n",
       " (':', -6.128875732421875),\n",
       " ('and', -4.113108158111572),\n",
       " ('God', -8.62376594543457),\n",
       " ('saw', -8.472514152526855),\n",
       " ('that', -4.464504718780518),\n",
       " ('it', -4.388050079345703),\n",
       " ('was', -5.252320289611816),\n",
       " ('good', -6.518923759460449),\n",
       " ('.', -3.0678977966308594),\n",
       " ('\\n', -6.0506510734558105),\n",
       " ('And', -7.012199401855469),\n",
       " ('God', -8.62376594543457),\n",
       " ('said', -7.258025169372559),\n",
       " (',', -3.4549596309661865),\n",
       " ('Let', -9.06763744354248),\n",
       " ('the', -3.528766632080078),\n",
       " ('earth', -9.99667739868164),\n",
       " ('bring', -9.024197578430176),\n",
       " ('forth', -10.748784065246582),\n",
       " ('grass', -11.125325202941895),\n",
       " (',', -3.4549596309661865),\n",
       " ('the', -3.528766632080078),\n",
       " ('herb', -12.867056846618652),\n",
       " ('yielding', -14.346465110778809),\n",
       " ('seed', -11.312100410461426),\n",
       " (',', -3.4549596309661865),\n",
       " ('and', -4.113108158111572),\n",
       " ('the', -3.528766632080078),\n",
       " ('fruit', -10.890713691711426),\n",
       " ('tree', -10.169004440307617),\n",
       " ('yielding', -14.346465110778809),\n",
       " ('fruit', -10.890713691711426),\n",
       " ('after', -7.265651702880859),\n",
       " ('his', -6.574275016784668),\n",
       " ('kind', -7.844367980957031),\n",
       " (',', -3.4549596309661865),\n",
       " ('whose', -10.427581787109375),\n",
       " ('seed', -11.312100410461426),\n",
       " ('is', -4.457748889923096),\n",
       " ('in', -4.619071960449219),\n",
       " ('itself', -9.050408363342285),\n",
       " (',', -3.4549596309661865),\n",
       " ('upon', -9.668910026550293),\n",
       " ('the', -3.528766632080078),\n",
       " ('earth', -9.99667739868164),\n",
       " (':', -6.128875732421875),\n",
       " ('and', -4.113108158111572),\n",
       " ('it', -4.388050079345703),\n",
       " ('was', -5.252320289611816),\n",
       " ('so', -5.823773384094238),\n",
       " ('.', -3.0678977966308594),\n",
       " ('\\n', -6.0506510734558105),\n",
       " ('And', -7.012199401855469),\n",
       " ('the', -3.528766632080078),\n",
       " ('earth', -9.99667739868164),\n",
       " ('brought', -9.668691635131836),\n",
       " ('forth', -10.748784065246582),\n",
       " ('grass', -11.125325202941895),\n",
       " (',', -3.4549596309661865),\n",
       " ('and', -4.113108158111572),\n",
       " ('herb', -12.867056846618652),\n",
       " ('yielding', -14.346465110778809),\n",
       " ('seed', -11.312100410461426),\n",
       " ('after', -7.265651702880859),\n",
       " ('his', -6.574275016784668),\n",
       " ('kind', -7.844367980957031),\n",
       " (',', -3.4549596309661865),\n",
       " ('and', -4.113108158111572),\n",
       " ('the', -3.528766632080078),\n",
       " ('tree', -10.169004440307617),\n",
       " ('yielding', -14.346465110778809),\n",
       " ('fruit', -10.890713691711426),\n",
       " (',', -3.4549596309661865),\n",
       " ('whose', -10.427581787109375),\n",
       " ('seed', -11.312100410461426),\n",
       " ('was', -5.252320289611816),\n",
       " ('in', -4.619071960449219),\n",
       " ('itself', -9.050408363342285),\n",
       " (',', -3.4549596309661865),\n",
       " ('after', -7.265651702880859),\n",
       " ('his', -6.574275016784668),\n",
       " ('kind', -7.844367980957031),\n",
       " (':', -6.128875732421875),\n",
       " ('and', -4.113108158111572),\n",
       " ('God', -8.62376594543457),\n",
       " ('saw', -8.472514152526855),\n",
       " ('that', -4.464504718780518),\n",
       " ('it', -4.388050079345703),\n",
       " ('was', -5.252320289611816),\n",
       " ('good', -6.518923759460449),\n",
       " ('.', -3.0678977966308594),\n",
       " ('\\n', -6.0506510734558105),\n",
       " ('And', -7.012199401855469),\n",
       " ('the', -3.528766632080078),\n",
       " ('evening', -11.057689666748047),\n",
       " ('and', -4.113108158111572),\n",
       " ('the', -3.528766632080078),\n",
       " ('morning', -9.529314041137695),\n",
       " ('were', -6.673174858093262),\n",
       " ('the', -3.528766632080078),\n",
       " ('third', -9.518111228942871),\n",
       " ('day', -7.400947093963623),\n",
       " ('.', -3.0678977966308594),\n",
       " ('\\n', -6.0506510734558105),\n",
       " ('And', -7.012199401855469),\n",
       " ('God', -8.62376594543457),\n",
       " ('said', -7.258025169372559),\n",
       " (',', -3.4549596309661865),\n",
       " ('Let', -9.06763744354248),\n",
       " ('there', -6.135282039642334),\n",
       " ('be', -5.225094318389893),\n",
       " ('lights', -10.471029281616211),\n",
       " ('in', -4.619071960449219),\n",
       " ('the', -3.528766632080078),\n",
       " ('firmament', -16.231229782104492),\n",
       " ('of', -4.27587366104126),\n",
       " ('the', -3.528766632080078),\n",
       " ('heaven', -11.090792655944824),\n",
       " ('to', -3.8560216426849365),\n",
       " ('divide', -11.869361877441406),\n",
       " ('the', -3.528766632080078),\n",
       " ('day', -7.400947093963623),\n",
       " ('from', -6.010132312774658),\n",
       " ('the', -3.528766632080078),\n",
       " ('night', -8.517072677612305),\n",
       " (';', -6.586422920227051),\n",
       " ('and', -4.113108158111572),\n",
       " ('let', -7.795135974884033),\n",
       " ('them', -6.2177276611328125),\n",
       " ('be', -5.225094318389893),\n",
       " ('for', -4.8801093101501465),\n",
       " ('signs', -10.679939270019531),\n",
       " (',', -3.4549596309661865),\n",
       " ('and', -4.113108158111572),\n",
       " ('for', -4.8801093101501465),\n",
       " ('seasons', -10.674756050109863),\n",
       " (',', -3.4549596309661865),\n",
       " ('and', -4.113108158111572),\n",
       " ('for', -4.8801093101501465),\n",
       " ('days', -8.227437973022461),\n",
       " (',', -3.4549596309661865),\n",
       " ('and', -4.113108158111572),\n",
       " ('years', -7.368987560272217),\n",
       " (':', -6.128875732421875),\n",
       " ('\\n', -6.0506510734558105),\n",
       " ('And', -7.012199401855469),\n",
       " ('let', -7.795135974884033),\n",
       " ('them', -6.2177276611328125),\n",
       " ('be', -5.225094318389893),\n",
       " ('for', -4.8801093101501465),\n",
       " ('lights', -10.471029281616211),\n",
       " ('in', -4.619071960449219),\n",
       " ('the', -3.528766632080078),\n",
       " ('firmament', -16.231229782104492),\n",
       " ('of', -4.27587366104126),\n",
       " ('the', -3.528766632080078),\n",
       " ('heaven', -11.090792655944824),\n",
       " ('to', -3.8560216426849365),\n",
       " ('give', -7.611863136291504),\n",
       " ('light', -8.946004867553711),\n",
       " ('upon', -9.668910026550293),\n",
       " ('the', -3.528766632080078),\n",
       " ('earth', -9.99667739868164),\n",
       " (':', -6.128875732421875),\n",
       " ('and', -4.113108158111572),\n",
       " ('it', -4.388050079345703),\n",
       " ('was', -5.252320289611816),\n",
       " ('so', -5.823773384094238),\n",
       " ('.', -3.0678977966308594),\n",
       " ('\\n', -6.0506510734558105),\n",
       " ('And', -7.012199401855469),\n",
       " ('God', -8.62376594543457),\n",
       " ('made', -7.399899005889893),\n",
       " ('two', -7.433600425720215),\n",
       " ('great', -7.420454502105713),\n",
       " ('lights', -10.471029281616211),\n",
       " (';', -6.586422920227051),\n",
       " ('the', -3.528766632080078),\n",
       " ('greater', -10.33936595916748),\n",
       " ('light', -8.946004867553711),\n",
       " ('to', -3.8560216426849365),\n",
       " ('rule', -9.489322662353516),\n",
       " ('the', -3.528766632080078),\n",
       " ('day', -7.400947093963623),\n",
       " (',', -3.4549596309661865),\n",
       " ('and', -4.113108158111572),\n",
       " ('the', -3.528766632080078),\n",
       " ('lesser', -11.297008514404297),\n",
       " ('light', -8.946004867553711),\n",
       " ('to', -3.8560216426849365),\n",
       " ('rule', -9.489322662353516),\n",
       " ('the', -3.528766632080078),\n",
       " ('night', -8.517072677612305),\n",
       " (':', -6.128875732421875),\n",
       " ('he', -5.9319047927856445),\n",
       " ('made', -7.399899005889893),\n",
       " ('the', -3.528766632080078),\n",
       " ('stars', -10.723898887634277),\n",
       " ('also', -6.928974151611328),\n",
       " ('.', -3.0678977966308594),\n",
       " ('\\n', -6.0506510734558105),\n",
       " ('And', -7.012199401855469),\n",
       " ('God', -8.62376594543457),\n",
       " ('set', -8.285635948181152),\n",
       " ('them', -6.2177276611328125),\n",
       " ('in', -4.619071960449219),\n",
       " ('the', -3.528766632080078),\n",
       " ('firmament', -16.231229782104492),\n",
       " ('of', -4.27587366104126),\n",
       " ('the', -3.528766632080078),\n",
       " ('heaven', -11.090792655944824),\n",
       " ('to', -3.8560216426849365),\n",
       " ('give', -7.611863136291504),\n",
       " ('light', -8.946004867553711),\n",
       " ('upon', -9.668910026550293),\n",
       " ('the', -3.528766632080078),\n",
       " ('earth', -9.99667739868164),\n",
       " (',', -3.4549596309661865),\n",
       " ('\\n', -6.0506510734558105),\n",
       " ('And', -7.012199401855469),\n",
       " ('to', -3.8560216426849365),\n",
       " ('rule', -9.489322662353516),\n",
       " ('over', -7.027544975280762),\n",
       " ('the', -3.528766632080078),\n",
       " ('day', -7.400947093963623),\n",
       " ('and', -4.113108158111572),\n",
       " ('over', -7.027544975280762),\n",
       " ('the', -3.528766632080078),\n",
       " ('night', -8.517072677612305),\n",
       " (',', -3.4549596309661865),\n",
       " ('and', -4.113108158111572),\n",
       " ('to', -3.8560216426849365),\n",
       " ('divide', -11.869361877441406),\n",
       " ('the', -3.528766632080078),\n",
       " ('light', -8.946004867553711),\n",
       " ('from', -6.010132312774658),\n",
       " ('the', -3.528766632080078),\n",
       " ('darkness', -11.919983863830566),\n",
       " (':', -6.128875732421875),\n",
       " ('and', -4.113108158111572),\n",
       " ('God', -8.62376594543457),\n",
       " ('saw', -8.472514152526855),\n",
       " ('that', -4.464504718780518),\n",
       " ('it', -4.388050079345703),\n",
       " ('was', -5.252320289611816),\n",
       " ('good', -6.518923759460449),\n",
       " ('.', -3.0678977966308594),\n",
       " ('\\n', -6.0506510734558105),\n",
       " ('And', -7.012199401855469),\n",
       " ('the', -3.528766632080078),\n",
       " ('evening', -11.057689666748047),\n",
       " ('and', -4.113108158111572),\n",
       " ('the', -3.528766632080078),\n",
       " ('morning', -9.529314041137695),\n",
       " ('were', -6.673174858093262),\n",
       " ('the', -3.528766632080078),\n",
       " ('fourth', -11.26281452178955),\n",
       " ('day', -7.400947093963623),\n",
       " ('.', -3.0678977966308594),\n",
       " ('\\n', -6.0506510734558105),\n",
       " ('And', -7.012199401855469),\n",
       " ('God', -8.62376594543457),\n",
       " ('said', -7.258025169372559),\n",
       " (',', -3.4549596309661865),\n",
       " ('Let', -9.06763744354248),\n",
       " ('the', -3.528766632080078),\n",
       " ('waters', -12.281831741333008),\n",
       " ('bring', -9.024197578430176),\n",
       " ('forth', -10.748784065246582),\n",
       " ('abundantly', -14.161575317382812),\n",
       " ('the', -3.528766632080078),\n",
       " ('moving', -9.442626953125),\n",
       " ('creature', -11.167755126953125),\n",
       " ('that', -4.464504718780518),\n",
       " ('hath', -13.809538841247559),\n",
       " ('life', -7.574200630187988),\n",
       " (',', -3.4549596309661865),\n",
       " ('and', -4.113108158111572),\n",
       " ('fowl', -14.753108978271484),\n",
       " ('that', -4.464504718780518),\n",
       " ('may', -7.678494930267334),\n",
       " ('fly', -10.09807014465332),\n",
       " ('above', -8.968317031860352),\n",
       " ('the', -3.528766632080078),\n",
       " ('earth', -9.99667739868164),\n",
       " ('in', -4.619071960449219),\n",
       " ('the', -3.528766632080078),\n",
       " ('open', -8.553583145141602),\n",
       " ('firmament', -16.231229782104492),\n",
       " ('of', -4.27587366104126),\n",
       " ('heaven', -11.090792655944824),\n",
       " ('.', -3.0678977966308594),\n",
       " ('\\n', -6.0506510734558105),\n",
       " ('And', -7.012199401855469),\n",
       " ('God', -8.62376594543457),\n",
       " ('created', -9.588191986083984),\n",
       " ('great', -7.420454502105713),\n",
       " ('whales', -12.786606788635254),\n",
       " (',', -3.4549596309661865),\n",
       " ('and', -4.113108158111572),\n",
       " ('every', -7.414647579193115),\n",
       " ('living', -8.985905647277832),\n",
       " ('creature', -11.167755126953125),\n",
       " ('that', -4.464504718780518),\n",
       " ('moveth', -18.65679168701172),\n",
       " (',', -3.4549596309661865),\n",
       " ('which', -6.877470970153809),\n",
       " ('the', -3.528766632080078),\n",
       " ('waters', -12.281831741333008),\n",
       " ('brought', -9.668691635131836),\n",
       " ('forth', -10.748784065246582),\n",
       " ('abundantly', -14.161575317382812),\n",
       " (',', -3.4549596309661865),\n",
       " ('after', -7.265651702880859),\n",
       " ('their', -6.461463928222656),\n",
       " ('kind', -7.844367980957031),\n",
       " (',', -3.4549596309661865),\n",
       " ('and', -4.113108158111572),\n",
       " ('every', -7.414647579193115),\n",
       " ('winged', -13.651302337646484),\n",
       " ('fowl', -14.753108978271484),\n",
       " ('after', -7.265651702880859),\n",
       " ('his', -6.574275016784668),\n",
       " ('kind', -7.844367980957031),\n",
       " (':', -6.128875732421875),\n",
       " ('and', -4.113108158111572),\n",
       " ('God', -8.62376594543457),\n",
       " ('saw', -8.472514152526855),\n",
       " ('that', -4.464504718780518),\n",
       " ('it', -4.388050079345703),\n",
       " ('was', -5.252320289611816),\n",
       " ('good', -6.518923759460449),\n",
       " ('.', -3.0678977966308594),\n",
       " ('\\n', -6.0506510734558105),\n",
       " ('And', -7.012199401855469),\n",
       " ('God', -8.62376594543457),\n",
       " ('blessed', -12.470718383789062),\n",
       " ('them', -6.2177276611328125),\n",
       " (',', -3.4549596309661865),\n",
       " ('saying', -7.854340076446533),\n",
       " (',', -3.4549596309661865),\n",
       " ('Be', -9.97562313079834),\n",
       " ('fruitful', -14.044333457946777),\n",
       " (',', -3.4549596309661865),\n",
       " ('and', -4.113108158111572),\n",
       " ('multiply', -12.690455436706543),\n",
       " (',', -3.4549596309661865),\n",
       " ('and', -4.113108158111572),\n",
       " ('fill', -10.136448860168457),\n",
       " ('the', -3.528766632080078),\n",
       " ('waters', -12.281831741333008),\n",
       " ('in', -4.619071960449219),\n",
       " ('the', -3.528766632080078),\n",
       " ('seas', -13.159337043762207),\n",
       " (',', -3.4549596309661865),\n",
       " ('and', -4.113108158111572),\n",
       " ('let', -7.795135974884033),\n",
       " ('fowl', -14.753108978271484),\n",
       " ('multiply', -12.690455436706543),\n",
       " ('in', -4.619071960449219),\n",
       " ('the', -3.528766632080078),\n",
       " ('earth', -9.99667739868164),\n",
       " ('.', -3.0678977966308594),\n",
       " ('\\n', -6.0506510734558105),\n",
       " ('And', -7.012199401855469),\n",
       " ('the', -3.528766632080078),\n",
       " ('evening', -11.057689666748047),\n",
       " ('and', -4.113108158111572),\n",
       " ('the', -3.528766632080078),\n",
       " ('morning', -9.529314041137695),\n",
       " ('were', -6.673174858093262),\n",
       " ('the', -3.528766632080078),\n",
       " ('fifth', -11.900616645812988),\n",
       " ('day', -7.400947093963623),\n",
       " ('.', -3.0678977966308594),\n",
       " ('\\n', -6.0506510734558105),\n",
       " ('And', -7.012199401855469),\n",
       " ('God', -8.62376594543457),\n",
       " ('said', -7.258025169372559),\n",
       " (',', -3.4549596309661865),\n",
       " ('Let', -9.06763744354248),\n",
       " ('the', -3.528766632080078),\n",
       " ('earth', -9.99667739868164),\n",
       " ('bring', -9.024197578430176),\n",
       " ('forth', -10.748784065246582),\n",
       " ('the', -3.528766632080078),\n",
       " ('living', -8.985905647277832),\n",
       " ('creature', -11.167755126953125),\n",
       " ('after', -7.265651702880859),\n",
       " ('his', -6.574275016784668),\n",
       " ('kind', -7.844367980957031),\n",
       " (',', -3.4549596309661865),\n",
       " ('cattle', -12.709310531616211),\n",
       " (',', -3.4549596309661865),\n",
       " ('and', -4.113108158111572),\n",
       " ('creeping', -13.013185501098633),\n",
       " ('thing', -7.063167572021484),\n",
       " (',', -3.4549596309661865),\n",
       " ('and', -4.113108158111572),\n",
       " ('beast', -11.051421165466309),\n",
       " ('of', -4.27587366104126),\n",
       " ('the', -3.528766632080078),\n",
       " ('earth', -9.99667739868164),\n",
       " ('after', -7.265651702880859),\n",
       " ('his', -6.574275016784668),\n",
       " ('kind', -7.844367980957031),\n",
       " (':', -6.128875732421875),\n",
       " ('and', -4.113108158111572),\n",
       " ('it', -4.388050079345703),\n",
       " ('was', -5.252320289611816),\n",
       " ('so', -5.823773384094238),\n",
       " ('.', -3.0678977966308594),\n",
       " ('\\n', -6.0506510734558105),\n",
       " ('And', -7.012199401855469),\n",
       " ('God', -8.62376594543457),\n",
       " ('made', -7.399899005889893),\n",
       " ('the', -3.528766632080078),\n",
       " ('beast', -11.051421165466309),\n",
       " ('of', -4.27587366104126),\n",
       " ('the', -3.528766632080078),\n",
       " ('earth', -9.99667739868164),\n",
       " ('after', -7.265651702880859),\n",
       " ('his', -6.574275016784668),\n",
       " ('kind', -7.844367980957031),\n",
       " (',', -3.4549596309661865),\n",
       " ('and', -4.113108158111572),\n",
       " ('cattle', -12.709310531616211),\n",
       " ('after', -7.265651702880859),\n",
       " ('their', -6.461463928222656),\n",
       " ('kind', -7.844367980957031),\n",
       " (',', -3.4549596309661865),\n",
       " ('and', -4.113108158111572),\n",
       " ('every', -7.414647579193115),\n",
       " ('thing', -7.063167572021484),\n",
       " ('that', -4.464504718780518),\n",
       " ('creepeth', -18.393335342407227),\n",
       " ('upon', -9.668910026550293),\n",
       " ('the', -3.528766632080078),\n",
       " ('earth', -9.99667739868164),\n",
       " ('after', -7.265651702880859),\n",
       " ('his', -6.574275016784668),\n",
       " ('kind', -7.844367980957031),\n",
       " (':', -6.128875732421875),\n",
       " ('and', -4.113108158111572),\n",
       " ('God', -8.62376594543457),\n",
       " ('saw', -8.472514152526855),\n",
       " ('that', -4.464504718780518),\n",
       " ('it', -4.388050079345703),\n",
       " ('was', -5.252320289611816),\n",
       " ('good', -6.518923759460449),\n",
       " ('.', -3.0678977966308594),\n",
       " ('\\n', -6.0506510734558105),\n",
       " ('And', -7.012199401855469),\n",
       " ('God', -8.62376594543457),\n",
       " ('said', -7.258025169372559),\n",
       " (',', -3.4549596309661865),\n",
       " ('Let', -9.06763744354248),\n",
       " ('us', -7.643693923950195),\n",
       " ('make', -6.66980504989624),\n",
       " ('man', -7.668745517730713),\n",
       " ('in', -4.619071960449219),\n",
       " ('our', -7.4210286140441895),\n",
       " ('image', -9.340066909790039),\n",
       " (',', -3.4549596309661865),\n",
       " ('after', -7.265651702880859),\n",
       " ('our', -7.4210286140441895),\n",
       " ('likeness', -13.957229614257812),\n",
       " (':', -6.128875732421875),\n",
       " ('and', -4.113108158111572),\n",
       " ('let', -7.795135974884033),\n",
       " ('them', -6.2177276611328125),\n",
       " ('have', -5.156484603881836),\n",
       " ('dominion', -13.568706512451172),\n",
       " ('over', -7.027544975280762),\n",
       " ('the', -3.528766632080078),\n",
       " ('fish', -10.166230201721191),\n",
       " ('of', -4.27587366104126),\n",
       " ('the', -3.528766632080078),\n",
       " ('sea', -10.812249183654785),\n",
       " (',', -3.4549596309661865),\n",
       " ('and', -4.113108158111572),\n",
       " ('over', -7.027544975280762),\n",
       " ('the', -3.528766632080078),\n",
       " ('fowl', -14.753108978271484),\n",
       " ('of', -4.27587366104126),\n",
       " ('the', -3.528766632080078),\n",
       " ('air', -9.366308212280273),\n",
       " (',', -3.4549596309661865),\n",
       " ('and', -4.113108158111572),\n",
       " ('over', -7.027544975280762),\n",
       " ('the', -3.528766632080078),\n",
       " ('cattle', -12.709310531616211),\n",
       " (',', -3.4549596309661865),\n",
       " ('and', -4.113108158111572),\n",
       " ('over', -7.027544975280762),\n",
       " ('all', -5.936640739440918),\n",
       " ('the', -3.528766632080078),\n",
       " ('earth', -9.99667739868164),\n",
       " (',', -3.4549596309661865),\n",
       " ('and', -4.113108158111572),\n",
       " ('over', -7.027544975280762),\n",
       " ('every', -7.414647579193115),\n",
       " ('creeping', -13.013185501098633),\n",
       " ('thing', -7.063167572021484),\n",
       " ('that', -4.464504718780518),\n",
       " ('creepeth', -18.393335342407227),\n",
       " ('upon', -9.668910026550293),\n",
       " ('the', -3.528766632080078),\n",
       " ('earth', -9.99667739868164),\n",
       " ('.', -3.0678977966308594),\n",
       " ('\\n', -6.0506510734558105),\n",
       " ('So', -7.199381351470947),\n",
       " ('God', -8.62376594543457),\n",
       " ('created', -9.588191986083984),\n",
       " ('man', -7.668745517730713),\n",
       " ('in', -4.619071960449219),\n",
       " ('his', -6.574275016784668),\n",
       " ('own', -7.636797904968262),\n",
       " ('image', -9.340066909790039),\n",
       " (',', -3.4549596309661865),\n",
       " ('in', -4.619071960449219),\n",
       " ('the', -3.528766632080078),\n",
       " ('image', -9.340066909790039),\n",
       " ('of', -4.27587366104126),\n",
       " ('God', -8.62376594543457),\n",
       " ('created', -9.588191986083984),\n",
       " ('he', -5.9319047927856445),\n",
       " ('him', -6.783067226409912),\n",
       " (';', -6.586422920227051),\n",
       " ('male', -9.495660781860352),\n",
       " ('and', -4.113108158111572),\n",
       " ('female', -9.457887649536133),\n",
       " ('created', -9.588191986083984),\n",
       " ('he', -5.9319047927856445),\n",
       " ('them', -6.2177276611328125),\n",
       " ('.', -3.0678977966308594),\n",
       " ('\\n', -6.0506510734558105),\n",
       " ('And', -7.012199401855469),\n",
       " ('God', -8.62376594543457),\n",
       " ('blessed', -12.470718383789062),\n",
       " ('them', -6.2177276611328125),\n",
       " (',', -3.4549596309661865),\n",
       " ('and', -4.113108158111572),\n",
       " ('God', -8.62376594543457),\n",
       " ('said', -7.258025169372559),\n",
       " ('unto', -12.566207885742188),\n",
       " ('them', -6.2177276611328125),\n",
       " (',', -3.4549596309661865),\n",
       " ('Be', -9.97562313079834),\n",
       " ('fruitful', -14.044333457946777),\n",
       " (',', -3.4549596309661865),\n",
       " ('and', -4.113108158111572),\n",
       " ('multiply', -12.690455436706543),\n",
       " (',', -3.4549596309661865),\n",
       " ('and', -4.113108158111572),\n",
       " ('replenish', -13.992582321166992),\n",
       " ('the', -3.528766632080078),\n",
       " ('earth', -9.99667739868164),\n",
       " (',', -3.4549596309661865),\n",
       " ('and', -4.113108158111572),\n",
       " ('subdue', -14.1923246383667),\n",
       " ('it', -4.388050079345703),\n",
       " (':', -6.128875732421875),\n",
       " ('and', -4.113108158111572),\n",
       " ('have', -5.156484603881836),\n",
       " ('dominion', -13.568706512451172),\n",
       " ('over', -7.027544975280762),\n",
       " ('the', -3.528766632080078),\n",
       " ('fish', -10.166230201721191),\n",
       " ('of', -4.27587366104126),\n",
       " ('the', -3.528766632080078),\n",
       " ('sea', -10.812249183654785),\n",
       " (',', -3.4549596309661865),\n",
       " ('and', -4.113108158111572),\n",
       " ('over', -7.027544975280762),\n",
       " ('the', -3.528766632080078),\n",
       " ('fowl', -14.753108978271484),\n",
       " ('of', -4.27587366104126),\n",
       " ('the', -3.528766632080078),\n",
       " ('air', -9.366308212280273),\n",
       " (',', -3.4549596309661865),\n",
       " ('and', -4.113108158111572),\n",
       " ('over', -7.027544975280762),\n",
       " ('every', -7.414647579193115),\n",
       " ('living', -8.985905647277832),\n",
       " ('thing', -7.063167572021484),\n",
       " ('that', -4.464504718780518),\n",
       " ('moveth', -18.65679168701172),\n",
       " ('upon', -9.668910026550293),\n",
       " ('the', -3.528766632080078),\n",
       " ('earth', -9.99667739868164),\n",
       " ('.', -3.0678977966308594),\n",
       " ('\\n', -6.0506510734558105),\n",
       " ('And', -7.012199401855469),\n",
       " ('God', -8.62376594543457),\n",
       " ('said', -7.258025169372559),\n",
       " (',', -3.4549596309661865),\n",
       " ('Behold', -14.124794006347656),\n",
       " (',', -3.4549596309661865),\n",
       " ('I', -3.791565179824829),\n",
       " ('have', -5.156484603881836),\n",
       " ('given', -8.831027030944824),\n",
       " ('you', -4.373791217803955),\n",
       " ('every', -7.414647579193115),\n",
       " ('herb', -12.867056846618652),\n",
       " ('bearing', -11.829506874084473),\n",
       " ('seed', -11.312100410461426),\n",
       " (',', -3.4549596309661865),\n",
       " ('which', -6.877470970153809),\n",
       " ('is', -4.457748889923096),\n",
       " ('upon', -9.668910026550293),\n",
       " ('the', -3.528766632080078),\n",
       " ('face', -8.504852294921875),\n",
       " ('of', -4.27587366104126),\n",
       " ('all', -5.936640739440918),\n",
       " ('the', -3.528766632080078),\n",
       " ('earth', -9.99667739868164),\n",
       " (',', -3.4549596309661865),\n",
       " ('and', -4.113108158111572),\n",
       " ('every', -7.414647579193115),\n",
       " ('tree', -10.169004440307617),\n",
       " (',', -3.4549596309661865),\n",
       " ('in', -4.619071960449219),\n",
       " ('the', -3.528766632080078),\n",
       " ('which', -6.877470970153809),\n",
       " ('is', -4.457748889923096),\n",
       " ('the', -3.528766632080078),\n",
       " ('fruit', -10.890713691711426),\n",
       " ('of', -4.27587366104126),\n",
       " ('a', -3.92978835105896),\n",
       " ('tree', -10.169004440307617),\n",
       " ('yielding', -14.346465110778809),\n",
       " ('seed', -11.312100410461426),\n",
       " (';', -6.586422920227051),\n",
       " ('to', -3.8560216426849365),\n",
       " ('you', -4.373791217803955),\n",
       " ('it', -4.388050079345703),\n",
       " ('shall', -10.453901290893555),\n",
       " ('be', -5.225094318389893),\n",
       " ('for', -4.8801093101501465),\n",
       " ('meat', -9.998331069946289),\n",
       " ('.', -3.0678977966308594),\n",
       " ('\\n', -6.0506510734558105),\n",
       " ('And', -7.012199401855469),\n",
       " ('to', -3.8560216426849365),\n",
       " ('every', -7.414647579193115),\n",
       " ('beast', -11.051421165466309),\n",
       " ('of', -4.27587366104126),\n",
       " ('the', -3.528766632080078),\n",
       " ('earth', -9.99667739868164),\n",
       " (',', -3.4549596309661865),\n",
       " ('and', -4.113108158111572),\n",
       " ('to', -3.8560216426849365),\n",
       " ('every', -7.414647579193115),\n",
       " ('fowl', -14.753108978271484),\n",
       " ('of', -4.27587366104126),\n",
       " ('the', -3.528766632080078),\n",
       " ('air', -9.366308212280273),\n",
       " (',', -3.4549596309661865),\n",
       " ('and', -4.113108158111572),\n",
       " ('to', -3.8560216426849365),\n",
       " ('every', -7.414647579193115),\n",
       " ('thing', -7.063167572021484),\n",
       " ('that', -4.464504718780518),\n",
       " ('creepeth', -18.393335342407227),\n",
       " ('upon', -9.668910026550293),\n",
       " ('the', -3.528766632080078),\n",
       " ('earth', -9.99667739868164),\n",
       " (',', -3.4549596309661865),\n",
       " ('wherein', -13.122753143310547),\n",
       " ('there', -6.135282039642334),\n",
       " ('is', -4.457748889923096),\n",
       " ('life', -7.574200630187988),\n",
       " (',', -3.4549596309661865),\n",
       " ('I', -3.791565179824829),\n",
       " ('have', -5.156484603881836),\n",
       " ('given', -8.831027030944824),\n",
       " ('every', -7.414647579193115),\n",
       " ('green', -9.84837532043457),\n",
       " ('herb', -12.867056846618652),\n",
       " ('for', -4.8801093101501465),\n",
       " ('meat', -9.998331069946289),\n",
       " (':', -6.128875732421875),\n",
       " ('and', -4.113108158111572),\n",
       " ('it', -4.388050079345703),\n",
       " ('was', -5.252320289611816),\n",
       " ('so', -5.823773384094238),\n",
       " ('.', -3.0678977966308594),\n",
       " ('\\n', -6.0506510734558105),\n",
       " ('And', -7.012199401855469),\n",
       " ('God', -8.62376594543457),\n",
       " ('saw', -8.472514152526855),\n",
       " ('every', -7.414647579193115),\n",
       " ('thing', -7.063167572021484),\n",
       " ('that', -4.464504718780518),\n",
       " ('he', -5.9319047927856445),\n",
       " ('had', -6.45427131652832),\n",
       " ('made', -7.399899005889893),\n",
       " (',', -3.4549596309661865),\n",
       " ('and', -4.113108158111572),\n",
       " (',', -3.4549596309661865),\n",
       " ('behold', -12.967406272888184),\n",
       " (',', -3.4549596309661865),\n",
       " ('it', -4.388050079345703),\n",
       " ('was', -5.252320289611816),\n",
       " ('very', -6.93242883682251),\n",
       " ('good', -6.518923759460449),\n",
       " ('.', -3.0678977966308594),\n",
       " ('And', -7.012199401855469),\n",
       " ('the', -3.528766632080078),\n",
       " ('evening', -11.057689666748047),\n",
       " ('and', -4.113108158111572),\n",
       " ('the', -3.528766632080078),\n",
       " ('morning', -9.529314041137695),\n",
       " ('were', -6.673174858093262),\n",
       " ('the', -3.528766632080078),\n",
       " ('sixth', -12.626535415649414),\n",
       " ('day', -7.400947093963623),\n",
       " ('.', -3.0678977966308594),\n",
       " ('\\n', -6.0506510734558105)]"
      ]
     },
     "execution_count": 84,
     "metadata": {},
     "output_type": "execute_result"
    }
   ],
   "source": [
    "[(item.text, item.prob) for item in doc3]"
   ]
  },
  {
   "cell_type": "markdown",
   "metadata": {},
   "source": [
    "Lower numbers (i.e., numbers that are more negative) are more rare. You can also look up any word's probability using the `.vocab` attribute of the [`Language`](https://spacy.io/api/language) object, which we initially created by calling `spacy.load()`, which returns a [`Lexeme`](https://spacy.io/api/lexeme) object:"
   ]
  },
  {
   "cell_type": "code",
   "execution_count": 92,
   "metadata": {
    "collapsed": true
   },
   "outputs": [],
   "source": [
    "basketball = nlp.vocab['basketball']"
   ]
  },
  {
   "cell_type": "code",
   "execution_count": 94,
   "metadata": {},
   "outputs": [
    {
     "data": {
      "text/plain": [
       "-11.016701698303223"
      ]
     },
     "execution_count": 94,
     "metadata": {},
     "output_type": "execute_result"
    }
   ],
   "source": [
    "basketball.prob"
   ]
  },
  {
   "cell_type": "markdown",
   "metadata": {},
   "source": [
    "Using this, we'll first create a list of only the unique words in a text:"
   ]
  },
  {
   "cell_type": "code",
   "execution_count": 129,
   "metadata": {
    "collapsed": true
   },
   "outputs": [],
   "source": [
    "unique_words = list(set([item.text for item in doc3 if item.is_alpha]))"
   ]
  },
  {
   "cell_type": "markdown",
   "metadata": {},
   "source": [
    "Then, using Python's `sorted()` function, we can sort these according to their probability and give only the top ten rarest words in the text."
   ]
  },
  {
   "cell_type": "code",
   "execution_count": 130,
   "metadata": {},
   "outputs": [
    {
     "data": {
      "text/plain": [
       "['moveth',\n",
       " 'creepeth',\n",
       " 'firmament',\n",
       " 'Seas',\n",
       " 'fowl',\n",
       " 'yielding',\n",
       " 'subdue',\n",
       " 'abundantly',\n",
       " 'Behold',\n",
       " 'fruitful']"
      ]
     },
     "execution_count": 130,
     "metadata": {},
     "output_type": "execute_result"
    }
   ],
   "source": [
    "[item for item in sorted(unique_words, key=lambda x: nlp.vocab[x].prob)][:10]"
   ]
  },
  {
   "cell_type": "markdown",
   "metadata": {},
   "source": [
    "This feels a *bit* more like an accurate summary of the text."
   ]
  },
  {
   "cell_type": "markdown",
   "metadata": {},
   "source": [
    "### Counting parsed units"
   ]
  },
  {
   "cell_type": "markdown",
   "metadata": {},
   "source": [
    "Another simple way to pull out common words and phrases is to focus on only particular stretches of the document that have certain syntactic or semantic characteristics, as determined by spaCy's parser. For example, in the cell below I'm counting the number of times particular nouns appear:"
   ]
  },
  {
   "cell_type": "code",
   "execution_count": 177,
   "metadata": {
    "collapsed": true
   },
   "outputs": [],
   "source": [
    "noun_counts = Counter([item.text for item in doc3 if item.pos_ == 'NOUN'])"
   ]
  },
  {
   "cell_type": "markdown",
   "metadata": {},
   "source": [
    "... and then getting just the ten most common nouns:"
   ]
  },
  {
   "cell_type": "code",
   "execution_count": 176,
   "metadata": {},
   "outputs": [
    {
     "name": "stdout",
     "output_type": "stream",
     "text": [
      "earth, waters, kind, day, firmament, light, evening, morning, seed, fowl\n"
     ]
    }
   ],
   "source": [
    "top_ten_nouns = [item[0] for item in noun_counts.most_common(10)]\n",
    "print(\", \".join(top_ten_nouns))"
   ]
  },
  {
   "cell_type": "markdown",
   "metadata": {},
   "source": [
    "Here's the same thing with noun chunks:"
   ]
  },
  {
   "cell_type": "code",
   "execution_count": 61,
   "metadata": {},
   "outputs": [
    {
     "name": "stdout",
     "output_type": "stream",
     "text": [
      "God, the earth, it, the waters, his kind, them, the firmament, the evening, the morning, the heaven\n"
     ]
    }
   ],
   "source": [
    "chunk_counts = Counter([item.text for item in doc3.noun_chunks])\n",
    "top_ten_chunks = [item[0] for item in chunk_counts.most_common(10)]\n",
    "print(\", \".join(top_ten_chunks))"
   ]
  },
  {
   "cell_type": "markdown",
   "metadata": {},
   "source": [
    "Or with named entities:"
   ]
  },
  {
   "cell_type": "code",
   "execution_count": 179,
   "metadata": {},
   "outputs": [
    {
     "name": "stdout",
     "output_type": "stream",
     "text": [
      "God, the day, earth, Night, the first day, the second day, one, Earth, the third day, two\n"
     ]
    }
   ],
   "source": [
    "entity_counts = Counter([item.text for item in doc3.ents])\n",
    "top_ten_entities = [item[0] for item in entity_counts.most_common(10)]\n",
    "print(\", \".join(top_ten_entities))"
   ]
  },
  {
   "cell_type": "markdown",
   "metadata": {},
   "source": [
    "Or with subjects of sentences:"
   ]
  },
  {
   "cell_type": "code",
   "execution_count": 180,
   "metadata": {},
   "outputs": [
    {
     "name": "stdout",
     "output_type": "stream",
     "text": [
      "God, it, that, evening, earth, which, he, them, seed, waters\n"
     ]
    }
   ],
   "source": [
    "subject_counts = Counter([item.text for item in doc3 if item.dep_ == 'nsubj'])\n",
    "top_ten_subjects = [item[0] for item in subject_counts.most_common(10)]\n",
    "print(\", \".join(top_ten_subjects))"
   ]
  },
  {
   "cell_type": "markdown",
   "metadata": {},
   "source": [
    "## Further reading and resources\n",
    "\n",
    "We've barely scratched the surface of what it's possible to do with spaCy. [There's a great page of tutorials on the official site](https://spacy.io/docs/usage/tutorials) that you should check out!"
   ]
  }
 ],
 "metadata": {
  "kernelspec": {
   "display_name": "Python 3",
   "language": "python",
   "name": "python3"
  },
  "language_info": {
   "codemirror_mode": {
    "name": "ipython",
    "version": 3
   },
   "file_extension": ".py",
   "mimetype": "text/x-python",
   "name": "python",
   "nbconvert_exporter": "python",
   "pygments_lexer": "ipython3",
   "version": "3.6.1"
  }
 },
 "nbformat": 4,
 "nbformat_minor": 2
}
